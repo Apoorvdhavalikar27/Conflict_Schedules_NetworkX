{
 "cells": [
  {
   "cell_type": "code",
   "execution_count": 1,
   "metadata": {},
   "outputs": [],
   "source": [
    "import numpy as np\n",
    "import networkx as nx"
   ]
  },
  {
   "cell_type": "code",
   "execution_count": 2,
   "metadata": {},
   "outputs": [
    {
     "name": "stdout",
     "output_type": "stream",
     "text": [
      "Enter File Pathschedule1.txt\n",
      "[['R(A)', 'NaN', 'NaN', 'NaN', 'NaN', 'NaN', 'W(C)'], ['NaN', 'W(D)', 'NaN', 'W(A)', 'R(A)', 'NaN', 'NaN'], ['NaN', 'NaN', 'W(A)', 'NaN', 'NaN', 'R(B)', 'NaN']]\n"
     ]
    }
   ],
   "source": [
    "file_path = input(\"Enter File Path\")\n",
    "with open(file_path) as f:\n",
    "    line1 = f.readline().split(\":\")\n",
    "    total_trans = len(line1[1].split(','))\n",
    "\n",
    "ls = [[] for i in range(total_trans)]\n",
    "\n",
    "with open(file_path) as f:\n",
    "    for i in range(3):\n",
    "        skip = f.readline()\n",
    "    line = f.readline()\n",
    "    while line:\n",
    "        l1 = line.split(\":\")\n",
    "        transaction_no = int(l1[0][1])   \n",
    "        count = 0\n",
    "        for i in range(len(ls)):\n",
    "            if i == transaction_no-1:\n",
    "                ls[i].append(l1[1][:-2])\n",
    "            else:\n",
    "                ls[i].append(\"NaN\")\n",
    "        line = f.readline()\n",
    "        \n",
    "    print(ls)"
   ]
  },
  {
   "cell_type": "code",
   "execution_count": 3,
   "metadata": {},
   "outputs": [],
   "source": [
    "def conflict_check(instruction1, instruction2):\n",
    "    if instruction1 == \"NaN\" or instruction2 == \"NaN\":\n",
    "        return False\n",
    "    operator1, operator2 = instruction1[0], instruction2[0]\n",
    "    data1, data2 = instruction1[2], instruction2[2]\n",
    "    if operator1 == \"W\" or operator2 == \"W\":\n",
    "        if data1 == data2:\n",
    "            return True\n",
    "    return False"
   ]
  },
  {
   "cell_type": "code",
   "execution_count": 4,
   "metadata": {},
   "outputs": [],
   "source": [
    "G = nx.DiGraph()\n",
    "for i in range(len(ls)):\n",
    "    T_id = i\n",
    "    G.add_node(T_id)\n",
    "      "
   ]
  },
  {
   "cell_type": "code",
   "execution_count": 5,
   "metadata": {},
   "outputs": [
    {
     "data": {
      "text/plain": [
       "NodeView((0, 1, 2))"
      ]
     },
     "execution_count": 5,
     "metadata": {},
     "output_type": "execute_result"
    }
   ],
   "source": [
    "# Nodes of graph\n",
    "G.nodes()"
   ]
  },
  {
   "cell_type": "code",
   "execution_count": 6,
   "metadata": {},
   "outputs": [],
   "source": [
    "length = len(ls[0])     \n",
    "# Add edge in the graph if instructions are conflicting\n",
    "for t_id in range(total_trans):\n",
    "    for i in range(length):\n",
    "        instruction = ls[t_id][i]\n",
    "        for j in range(total_trans):\n",
    "            if j == t_id:\n",
    "                continue\n",
    "            else:\n",
    "                for k in range(i+1,length):\n",
    "                    if conflict_check(instruction, ls[j][k]):\n",
    "                        G.add_edge(t_id,j)"
   ]
  },
  {
   "cell_type": "code",
   "execution_count": 7,
   "metadata": {},
   "outputs": [
    {
     "data": {
      "text/plain": [
       "OutEdgeView([(0, 1), (0, 2), (2, 1)])"
      ]
     },
     "execution_count": 7,
     "metadata": {},
     "output_type": "execute_result"
    }
   ],
   "source": [
    "# Edges of the graph\n",
    "G.edges()"
   ]
  },
  {
   "cell_type": "code",
   "execution_count": 8,
   "metadata": {},
   "outputs": [
    {
     "data": {
      "image/png": "[encoded data removed]",
      "text/plain": [
       "<Figure size 432x288 with 1 Axes>"
      ]
     },
     "metadata": {},
     "output_type": "display_data"
    }
   ],
   "source": [
    "nx.draw(G, with_labels=True, font_weight='bold')\n",
    " "
   ]
  },
  {
   "cell_type": "code",
   "execution_count": 9,
   "metadata": {},
   "outputs": [
    {
     "name": "stdout",
     "output_type": "stream",
     "text": [
      "Conflict serializable\n"
     ]
    }
   ],
   "source": [
    "# nx.find_cycle(G)\n",
    "try:\n",
    "    nx.find_cycle(G)\n",
    "    print(\"Not Conflict serializable\")\n",
    "except:\n",
    "    print(\"Conflict serializable\")"
   ]
  },
  {
   "cell_type": "code",
   "execution_count": 68,
   "metadata": {},
   "outputs": [],
   "source": [
    "# nx.find_cycle(G)"
   ]
  }
 ],
 "metadata": {
  "kernelspec": {
   "display_name": "Python 3",
   "language": "python",
   "name": "python3"
  },
  "language_info": {
   "codemirror_mode": {
    "name": "ipython",
    "version": 3
   },
   "file_extension": ".py",
   "mimetype": "text/x-python",
   "name": "python",
   "nbconvert_exporter": "python",
   "pygments_lexer": "ipython3",
   "version": "3.8.5"
  }
 },
 "nbformat": 4,
 "nbformat_minor": 4
}
